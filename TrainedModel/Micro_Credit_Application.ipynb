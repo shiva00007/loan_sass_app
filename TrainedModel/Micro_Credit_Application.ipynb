{
  "nbformat": 4,
  "nbformat_minor": 0,
  "metadata": {
    "colab": {
      "provenance": []
    },
    "kernelspec": {
      "name": "python3",
      "display_name": "Python 3"
    },
    "language_info": {
      "name": "python"
    }
  },
  "cells": [
    {
      "cell_type": "code",
      "execution_count": 3,
      "metadata": {
        "id": "cf4VDkgMJU7_"
      },
      "outputs": [],
      "source": [
        "import pandas as pd\n",
        "import numpy as np\n",
        "import matplotlib.pyplot as plt\n",
        "import seaborn as sns\n",
        "%matplotlib inline"
      ]
    },
    {
      "cell_type": "markdown",
      "source": [
        "# **IMPORT A DATASET**"
      ],
      "metadata": {
        "id": "U76srmYNapSD"
      }
    },
    {
      "cell_type": "code",
      "source": [
        "#read a dataset\n",
        "\n",
        "df = pd.read_csv(\"/content/loan_application_data.csv\")\n",
        "df.head()"
      ],
      "metadata": {
        "colab": {
          "base_uri": "https://localhost:8080/",
          "height": 533
        },
        "id": "4wd9JdvVJspM",
        "outputId": "f7a60355-024a-422c-8e28-6e759a94bb9f"
      },
      "execution_count": 4,
      "outputs": [
        {
          "output_type": "execute_result",
          "data": {
            "text/plain": [
              "                full_name                                          address  \\\n",
              "0  Mrs Michelle Castaneda            047 Martin Forges Karenmouth ND 17819   \n",
              "1             Chelsea Fox    266 Robin Spurs Suite 734 Lake Wendy CT 11177   \n",
              "2             Mark Flores        48736 Louis Corners Herreraburgh AZ 32473   \n",
              "3          Mason Atkinson  17038 Jackson Junctions Gregorychester NJ 24536   \n",
              "4         Dominique Scott             990 Chandler Road Morseport WY 58113   \n",
              "\n",
              "   pan_number                   company_name  current_salary  previous_salary  \\\n",
              "0   331287521       Moran Oneill and Russell           55906            50559   \n",
              "1   285303479     Pierce Campbell and Santos          123408           120515   \n",
              "2   314116551     Chapman Edwards and Flores           94095            88997   \n",
              "3    18672344        Olsen Anderson and Vega          122360           117638   \n",
              "4   606359561  Lowery Johnson and Cunningham           80529            75537   \n",
              "\n",
              "   owns_house  rent_amount  grocery_expense_per_month  current_emis  ...  \\\n",
              "0       False        17315                       6858          5491  ...   \n",
              "1        True            0                       6306          9959  ...   \n",
              "2       False        25729                       5338         11791  ...   \n",
              "3        True            0                       6156          9608  ...   \n",
              "4       False        18605                       6232         11721  ...   \n",
              "\n",
              "   credit_score        loan_purpose employment_status  marital_status  \\\n",
              "0           695           Education         Full-time          Single   \n",
              "1           673              Travel          Contract         Married   \n",
              "2           710  Business Expansion         Full-time         Married   \n",
              "3           665  Business Expansion         Part-time          Single   \n",
              "4           662   Personal Expenses          Contract        Divorced   \n",
              "\n",
              "   num_children  cibil_score  residential_assets_value  \\\n",
              "0             0          752                   2285192   \n",
              "1             3          658                   2210520   \n",
              "2             3          666                   1306980   \n",
              "3             0          647                   1467942   \n",
              "4             0          718                   1789499   \n",
              "\n",
              "   commercial_assets_value  luxury_assets_value  loan_status  \n",
              "0                  1065331               261645     Approved  \n",
              "1                  1055501               217845     Rejected  \n",
              "2                   439866               186339     Approved  \n",
              "3                  1231818               190169     Rejected  \n",
              "4                   909552               199499     Rejected  \n",
              "\n",
              "[5 rows x 36 columns]"
            ],
            "text/html": [
              "\n",
              "  <div id=\"df-cc761bda-608f-4359-b493-54f8ef4ec859\" class=\"colab-df-container\">\n",
              "    <div>\n",
              "<style scoped>\n",
              "    .dataframe tbody tr th:only-of-type {\n",
              "        vertical-align: middle;\n",
              "    }\n",
              "\n",
              "    .dataframe tbody tr th {\n",
              "        vertical-align: top;\n",
              "    }\n",
              "\n",
              "    .dataframe thead th {\n",
              "        text-align: right;\n",
              "    }\n",
              "</style>\n",
              "<table border=\"1\" class=\"dataframe\">\n",
              "  <thead>\n",
              "    <tr style=\"text-align: right;\">\n",
              "      <th></th>\n",
              "      <th>full_name</th>\n",
              "      <th>address</th>\n",
              "      <th>pan_number</th>\n",
              "      <th>company_name</th>\n",
              "      <th>current_salary</th>\n",
              "      <th>previous_salary</th>\n",
              "      <th>owns_house</th>\n",
              "      <th>rent_amount</th>\n",
              "      <th>grocery_expense_per_month</th>\n",
              "      <th>current_emis</th>\n",
              "      <th>...</th>\n",
              "      <th>credit_score</th>\n",
              "      <th>loan_purpose</th>\n",
              "      <th>employment_status</th>\n",
              "      <th>marital_status</th>\n",
              "      <th>num_children</th>\n",
              "      <th>cibil_score</th>\n",
              "      <th>residential_assets_value</th>\n",
              "      <th>commercial_assets_value</th>\n",
              "      <th>luxury_assets_value</th>\n",
              "      <th>loan_status</th>\n",
              "    </tr>\n",
              "  </thead>\n",
              "  <tbody>\n",
              "    <tr>\n",
              "      <th>0</th>\n",
              "      <td>Mrs Michelle Castaneda</td>\n",
              "      <td>047 Martin Forges Karenmouth ND 17819</td>\n",
              "      <td>331287521</td>\n",
              "      <td>Moran Oneill and Russell</td>\n",
              "      <td>55906</td>\n",
              "      <td>50559</td>\n",
              "      <td>False</td>\n",
              "      <td>17315</td>\n",
              "      <td>6858</td>\n",
              "      <td>5491</td>\n",
              "      <td>...</td>\n",
              "      <td>695</td>\n",
              "      <td>Education</td>\n",
              "      <td>Full-time</td>\n",
              "      <td>Single</td>\n",
              "      <td>0</td>\n",
              "      <td>752</td>\n",
              "      <td>2285192</td>\n",
              "      <td>1065331</td>\n",
              "      <td>261645</td>\n",
              "      <td>Approved</td>\n",
              "    </tr>\n",
              "    <tr>\n",
              "      <th>1</th>\n",
              "      <td>Chelsea Fox</td>\n",
              "      <td>266 Robin Spurs Suite 734 Lake Wendy CT 11177</td>\n",
              "      <td>285303479</td>\n",
              "      <td>Pierce Campbell and Santos</td>\n",
              "      <td>123408</td>\n",
              "      <td>120515</td>\n",
              "      <td>True</td>\n",
              "      <td>0</td>\n",
              "      <td>6306</td>\n",
              "      <td>9959</td>\n",
              "      <td>...</td>\n",
              "      <td>673</td>\n",
              "      <td>Travel</td>\n",
              "      <td>Contract</td>\n",
              "      <td>Married</td>\n",
              "      <td>3</td>\n",
              "      <td>658</td>\n",
              "      <td>2210520</td>\n",
              "      <td>1055501</td>\n",
              "      <td>217845</td>\n",
              "      <td>Rejected</td>\n",
              "    </tr>\n",
              "    <tr>\n",
              "      <th>2</th>\n",
              "      <td>Mark Flores</td>\n",
              "      <td>48736 Louis Corners Herreraburgh AZ 32473</td>\n",
              "      <td>314116551</td>\n",
              "      <td>Chapman Edwards and Flores</td>\n",
              "      <td>94095</td>\n",
              "      <td>88997</td>\n",
              "      <td>False</td>\n",
              "      <td>25729</td>\n",
              "      <td>5338</td>\n",
              "      <td>11791</td>\n",
              "      <td>...</td>\n",
              "      <td>710</td>\n",
              "      <td>Business Expansion</td>\n",
              "      <td>Full-time</td>\n",
              "      <td>Married</td>\n",
              "      <td>3</td>\n",
              "      <td>666</td>\n",
              "      <td>1306980</td>\n",
              "      <td>439866</td>\n",
              "      <td>186339</td>\n",
              "      <td>Approved</td>\n",
              "    </tr>\n",
              "    <tr>\n",
              "      <th>3</th>\n",
              "      <td>Mason Atkinson</td>\n",
              "      <td>17038 Jackson Junctions Gregorychester NJ 24536</td>\n",
              "      <td>18672344</td>\n",
              "      <td>Olsen Anderson and Vega</td>\n",
              "      <td>122360</td>\n",
              "      <td>117638</td>\n",
              "      <td>True</td>\n",
              "      <td>0</td>\n",
              "      <td>6156</td>\n",
              "      <td>9608</td>\n",
              "      <td>...</td>\n",
              "      <td>665</td>\n",
              "      <td>Business Expansion</td>\n",
              "      <td>Part-time</td>\n",
              "      <td>Single</td>\n",
              "      <td>0</td>\n",
              "      <td>647</td>\n",
              "      <td>1467942</td>\n",
              "      <td>1231818</td>\n",
              "      <td>190169</td>\n",
              "      <td>Rejected</td>\n",
              "    </tr>\n",
              "    <tr>\n",
              "      <th>4</th>\n",
              "      <td>Dominique Scott</td>\n",
              "      <td>990 Chandler Road Morseport WY 58113</td>\n",
              "      <td>606359561</td>\n",
              "      <td>Lowery Johnson and Cunningham</td>\n",
              "      <td>80529</td>\n",
              "      <td>75537</td>\n",
              "      <td>False</td>\n",
              "      <td>18605</td>\n",
              "      <td>6232</td>\n",
              "      <td>11721</td>\n",
              "      <td>...</td>\n",
              "      <td>662</td>\n",
              "      <td>Personal Expenses</td>\n",
              "      <td>Contract</td>\n",
              "      <td>Divorced</td>\n",
              "      <td>0</td>\n",
              "      <td>718</td>\n",
              "      <td>1789499</td>\n",
              "      <td>909552</td>\n",
              "      <td>199499</td>\n",
              "      <td>Rejected</td>\n",
              "    </tr>\n",
              "  </tbody>\n",
              "</table>\n",
              "<p>5 rows × 36 columns</p>\n",
              "</div>\n",
              "    <div class=\"colab-df-buttons\">\n",
              "\n",
              "  <div class=\"colab-df-container\">\n",
              "    <button class=\"colab-df-convert\" onclick=\"convertToInteractive('df-cc761bda-608f-4359-b493-54f8ef4ec859')\"\n",
              "            title=\"Convert this dataframe to an interactive table.\"\n",
              "            style=\"display:none;\">\n",
              "\n",
              "  <svg xmlns=\"http://www.w3.org/2000/svg\" height=\"24px\" viewBox=\"0 -960 960 960\">\n",
              "    <path d=\"M120-120v-720h720v720H120Zm60-500h600v-160H180v160Zm220 220h160v-160H400v160Zm0 220h160v-160H400v160ZM180-400h160v-160H180v160Zm440 0h160v-160H620v160ZM180-180h160v-160H180v160Zm440 0h160v-160H620v160Z\"/>\n",
              "  </svg>\n",
              "    </button>\n",
              "\n",
              "  <style>\n",
              "    .colab-df-container {\n",
              "      display:flex;\n",
              "      gap: 12px;\n",
              "    }\n",
              "\n",
              "    .colab-df-convert {\n",
              "      background-color: #E8F0FE;\n",
              "      border: none;\n",
              "      border-radius: 50%;\n",
              "      cursor: pointer;\n",
              "      display: none;\n",
              "      fill: #1967D2;\n",
              "      height: 32px;\n",
              "      padding: 0 0 0 0;\n",
              "      width: 32px;\n",
              "    }\n",
              "\n",
              "    .colab-df-convert:hover {\n",
              "      background-color: #E2EBFA;\n",
              "      box-shadow: 0px 1px 2px rgba(60, 64, 67, 0.3), 0px 1px 3px 1px rgba(60, 64, 67, 0.15);\n",
              "      fill: #174EA6;\n",
              "    }\n",
              "\n",
              "    .colab-df-buttons div {\n",
              "      margin-bottom: 4px;\n",
              "    }\n",
              "\n",
              "    [theme=dark] .colab-df-convert {\n",
              "      background-color: #3B4455;\n",
              "      fill: #D2E3FC;\n",
              "    }\n",
              "\n",
              "    [theme=dark] .colab-df-convert:hover {\n",
              "      background-color: #434B5C;\n",
              "      box-shadow: 0px 1px 3px 1px rgba(0, 0, 0, 0.15);\n",
              "      filter: drop-shadow(0px 1px 2px rgba(0, 0, 0, 0.3));\n",
              "      fill: #FFFFFF;\n",
              "    }\n",
              "  </style>\n",
              "\n",
              "    <script>\n",
              "      const buttonEl =\n",
              "        document.querySelector('#df-cc761bda-608f-4359-b493-54f8ef4ec859 button.colab-df-convert');\n",
              "      buttonEl.style.display =\n",
              "        google.colab.kernel.accessAllowed ? 'block' : 'none';\n",
              "\n",
              "      async function convertToInteractive(key) {\n",
              "        const element = document.querySelector('#df-cc761bda-608f-4359-b493-54f8ef4ec859');\n",
              "        const dataTable =\n",
              "          await google.colab.kernel.invokeFunction('convertToInteractive',\n",
              "                                                    [key], {});\n",
              "        if (!dataTable) return;\n",
              "\n",
              "        const docLinkHtml = 'Like what you see? Visit the ' +\n",
              "          '<a target=\"_blank\" href=https://colab.research.google.com/notebooks/data_table.ipynb>data table notebook</a>'\n",
              "          + ' to learn more about interactive tables.';\n",
              "        element.innerHTML = '';\n",
              "        dataTable['output_type'] = 'display_data';\n",
              "        await google.colab.output.renderOutput(dataTable, element);\n",
              "        const docLink = document.createElement('div');\n",
              "        docLink.innerHTML = docLinkHtml;\n",
              "        element.appendChild(docLink);\n",
              "      }\n",
              "    </script>\n",
              "  </div>\n",
              "\n",
              "\n",
              "<div id=\"df-c0429adb-55db-49c3-9e22-9e41aab4e556\">\n",
              "  <button class=\"colab-df-quickchart\" onclick=\"quickchart('df-c0429adb-55db-49c3-9e22-9e41aab4e556')\"\n",
              "            title=\"Suggest charts\"\n",
              "            style=\"display:none;\">\n",
              "\n",
              "<svg xmlns=\"http://www.w3.org/2000/svg\" height=\"24px\"viewBox=\"0 0 24 24\"\n",
              "     width=\"24px\">\n",
              "    <g>\n",
              "        <path d=\"M19 3H5c-1.1 0-2 .9-2 2v14c0 1.1.9 2 2 2h14c1.1 0 2-.9 2-2V5c0-1.1-.9-2-2-2zM9 17H7v-7h2v7zm4 0h-2V7h2v10zm4 0h-2v-4h2v4z\"/>\n",
              "    </g>\n",
              "</svg>\n",
              "  </button>\n",
              "\n",
              "<style>\n",
              "  .colab-df-quickchart {\n",
              "      --bg-color: #E8F0FE;\n",
              "      --fill-color: #1967D2;\n",
              "      --hover-bg-color: #E2EBFA;\n",
              "      --hover-fill-color: #174EA6;\n",
              "      --disabled-fill-color: #AAA;\n",
              "      --disabled-bg-color: #DDD;\n",
              "  }\n",
              "\n",
              "  [theme=dark] .colab-df-quickchart {\n",
              "      --bg-color: #3B4455;\n",
              "      --fill-color: #D2E3FC;\n",
              "      --hover-bg-color: #434B5C;\n",
              "      --hover-fill-color: #FFFFFF;\n",
              "      --disabled-bg-color: #3B4455;\n",
              "      --disabled-fill-color: #666;\n",
              "  }\n",
              "\n",
              "  .colab-df-quickchart {\n",
              "    background-color: var(--bg-color);\n",
              "    border: none;\n",
              "    border-radius: 50%;\n",
              "    cursor: pointer;\n",
              "    display: none;\n",
              "    fill: var(--fill-color);\n",
              "    height: 32px;\n",
              "    padding: 0;\n",
              "    width: 32px;\n",
              "  }\n",
              "\n",
              "  .colab-df-quickchart:hover {\n",
              "    background-color: var(--hover-bg-color);\n",
              "    box-shadow: 0 1px 2px rgba(60, 64, 67, 0.3), 0 1px 3px 1px rgba(60, 64, 67, 0.15);\n",
              "    fill: var(--button-hover-fill-color);\n",
              "  }\n",
              "\n",
              "  .colab-df-quickchart-complete:disabled,\n",
              "  .colab-df-quickchart-complete:disabled:hover {\n",
              "    background-color: var(--disabled-bg-color);\n",
              "    fill: var(--disabled-fill-color);\n",
              "    box-shadow: none;\n",
              "  }\n",
              "\n",
              "  .colab-df-spinner {\n",
              "    border: 2px solid var(--fill-color);\n",
              "    border-color: transparent;\n",
              "    border-bottom-color: var(--fill-color);\n",
              "    animation:\n",
              "      spin 1s steps(1) infinite;\n",
              "  }\n",
              "\n",
              "  @keyframes spin {\n",
              "    0% {\n",
              "      border-color: transparent;\n",
              "      border-bottom-color: var(--fill-color);\n",
              "      border-left-color: var(--fill-color);\n",
              "    }\n",
              "    20% {\n",
              "      border-color: transparent;\n",
              "      border-left-color: var(--fill-color);\n",
              "      border-top-color: var(--fill-color);\n",
              "    }\n",
              "    30% {\n",
              "      border-color: transparent;\n",
              "      border-left-color: var(--fill-color);\n",
              "      border-top-color: var(--fill-color);\n",
              "      border-right-color: var(--fill-color);\n",
              "    }\n",
              "    40% {\n",
              "      border-color: transparent;\n",
              "      border-right-color: var(--fill-color);\n",
              "      border-top-color: var(--fill-color);\n",
              "    }\n",
              "    60% {\n",
              "      border-color: transparent;\n",
              "      border-right-color: var(--fill-color);\n",
              "    }\n",
              "    80% {\n",
              "      border-color: transparent;\n",
              "      border-right-color: var(--fill-color);\n",
              "      border-bottom-color: var(--fill-color);\n",
              "    }\n",
              "    90% {\n",
              "      border-color: transparent;\n",
              "      border-bottom-color: var(--fill-color);\n",
              "    }\n",
              "  }\n",
              "</style>\n",
              "\n",
              "  <script>\n",
              "    async function quickchart(key) {\n",
              "      const quickchartButtonEl =\n",
              "        document.querySelector('#' + key + ' button');\n",
              "      quickchartButtonEl.disabled = true;  // To prevent multiple clicks.\n",
              "      quickchartButtonEl.classList.add('colab-df-spinner');\n",
              "      try {\n",
              "        const charts = await google.colab.kernel.invokeFunction(\n",
              "            'suggestCharts', [key], {});\n",
              "      } catch (error) {\n",
              "        console.error('Error during call to suggestCharts:', error);\n",
              "      }\n",
              "      quickchartButtonEl.classList.remove('colab-df-spinner');\n",
              "      quickchartButtonEl.classList.add('colab-df-quickchart-complete');\n",
              "    }\n",
              "    (() => {\n",
              "      let quickchartButtonEl =\n",
              "        document.querySelector('#df-c0429adb-55db-49c3-9e22-9e41aab4e556 button');\n",
              "      quickchartButtonEl.style.display =\n",
              "        google.colab.kernel.accessAllowed ? 'block' : 'none';\n",
              "    })();\n",
              "  </script>\n",
              "</div>\n",
              "\n",
              "    </div>\n",
              "  </div>\n"
            ],
            "application/vnd.google.colaboratory.intrinsic+json": {
              "type": "dataframe",
              "variable_name": "df"
            }
          },
          "metadata": {},
          "execution_count": 4
        }
      ]
    },
    {
      "cell_type": "markdown",
      "source": [
        "# **READ AND EXPLORE THE DATA**"
      ],
      "metadata": {
        "id": "ccSEuyvGa712"
      }
    },
    {
      "cell_type": "code",
      "source": [
        "df.info()"
      ],
      "metadata": {
        "colab": {
          "base_uri": "https://localhost:8080/"
        },
        "id": "KQ5NDLq0Kac_",
        "outputId": "51eb1a7b-b173-4be8-f653-9706cf639953"
      },
      "execution_count": 5,
      "outputs": [
        {
          "output_type": "stream",
          "name": "stdout",
          "text": [
            "<class 'pandas.core.frame.DataFrame'>\n",
            "RangeIndex: 25000 entries, 0 to 24999\n",
            "Data columns (total 36 columns):\n",
            " #   Column                          Non-Null Count  Dtype  \n",
            "---  ------                          --------------  -----  \n",
            " 0   full_name                       25000 non-null  object \n",
            " 1   address                         25000 non-null  object \n",
            " 2   pan_number                      25000 non-null  int64  \n",
            " 3   company_name                    25000 non-null  object \n",
            " 4   current_salary                  25000 non-null  int64  \n",
            " 5   previous_salary                 25000 non-null  int64  \n",
            " 6   owns_house                      25000 non-null  bool   \n",
            " 7   rent_amount                     25000 non-null  int64  \n",
            " 8   grocery_expense_per_month       25000 non-null  int64  \n",
            " 9   current_emis                    25000 non-null  int64  \n",
            " 10  previous_hike_amount            25000 non-null  int64  \n",
            " 11  expected_next_hike_amount       25000 non-null  int64  \n",
            " 12  bank_name                       25000 non-null  object \n",
            " 13  loan_amount                     25000 non-null  int64  \n",
            " 14  repayment_period_months         25000 non-null  int64  \n",
            " 15  emi_amount                      25000 non-null  float64\n",
            " 16  interest_rate                   25000 non-null  float64\n",
            " 17  risk_score                      25000 non-null  int64  \n",
            " 18  mall_visits_per_month           25000 non-null  int64  \n",
            " 19  average_spending_per_visit      25000 non-null  int64  \n",
            " 20  total_monthly_mall_expenditure  25000 non-null  int64  \n",
            " 21  loan_to_income_ratio            25000 non-null  float64\n",
            " 22  spending_to_income_ratio        25000 non-null  float64\n",
            " 23  repayment_to_income_ratio       25000 non-null  float64\n",
            " 24  other_monthly_expenses          25000 non-null  int64  \n",
            " 25  savings_per_month               25000 non-null  int64  \n",
            " 26  credit_score                    25000 non-null  int64  \n",
            " 27  loan_purpose                    25000 non-null  object \n",
            " 28  employment_status               25000 non-null  object \n",
            " 29  marital_status                  25000 non-null  object \n",
            " 30  num_children                    25000 non-null  int64  \n",
            " 31  cibil_score                     25000 non-null  int64  \n",
            " 32  residential_assets_value        25000 non-null  int64  \n",
            " 33  commercial_assets_value         25000 non-null  int64  \n",
            " 34  luxury_assets_value             25000 non-null  int64  \n",
            " 35  loan_status                     25000 non-null  object \n",
            "dtypes: bool(1), float64(5), int64(22), object(8)\n",
            "memory usage: 6.7+ MB\n"
          ]
        }
      ]
    },
    {
      "cell_type": "code",
      "source": [
        "#To view the shape of the data\n",
        "df.shape"
      ],
      "metadata": {
        "colab": {
          "base_uri": "https://localhost:8080/"
        },
        "id": "GDUbrz1qKnQx",
        "outputId": "0391aa6f-acb1-4fbb-cbfe-64dd0afb9161"
      },
      "execution_count": 6,
      "outputs": [
        {
          "output_type": "execute_result",
          "data": {
            "text/plain": [
              "(25000, 36)"
            ]
          },
          "metadata": {},
          "execution_count": 6
        }
      ]
    },
    {
      "cell_type": "code",
      "source": [
        "#columns name of the data\n",
        "df.columns"
      ],
      "metadata": {
        "colab": {
          "base_uri": "https://localhost:8080/"
        },
        "id": "EMg0Wwa8Kv8x",
        "outputId": "8592524f-53eb-4923-c536-568fcbbc060f"
      },
      "execution_count": 7,
      "outputs": [
        {
          "output_type": "execute_result",
          "data": {
            "text/plain": [
              "Index(['full_name', 'address', 'pan_number', 'company_name', 'current_salary',\n",
              "       'previous_salary', 'owns_house', 'rent_amount',\n",
              "       'grocery_expense_per_month', 'current_emis', 'previous_hike_amount',\n",
              "       'expected_next_hike_amount', 'bank_name', 'loan_amount',\n",
              "       'repayment_period_months', 'emi_amount', 'interest_rate', 'risk_score',\n",
              "       'mall_visits_per_month', 'average_spending_per_visit',\n",
              "       'total_monthly_mall_expenditure', 'loan_to_income_ratio',\n",
              "       'spending_to_income_ratio', 'repayment_to_income_ratio',\n",
              "       'other_monthly_expenses', 'savings_per_month', 'credit_score',\n",
              "       'loan_purpose', 'employment_status', 'marital_status', 'num_children',\n",
              "       'cibil_score', 'residential_assets_value', 'commercial_assets_value',\n",
              "       'luxury_assets_value', 'loan_status'],\n",
              "      dtype='object')"
            ]
          },
          "metadata": {},
          "execution_count": 7
        }
      ]
    },
    {
      "cell_type": "code",
      "source": [
        "#To describe a all Numeric values\n",
        "df.describe()"
      ],
      "metadata": {
        "colab": {
          "base_uri": "https://localhost:8080/",
          "height": 350
        },
        "id": "7mQUBpw9K8xX",
        "outputId": "13a79b2b-c9ed-4a44-d7dd-ef217fead21a"
      },
      "execution_count": 8,
      "outputs": [
        {
          "output_type": "execute_result",
          "data": {
            "text/plain": [
              "         pan_number  current_salary  previous_salary   rent_amount  \\\n",
              "count  2.500000e+04    25000.000000     25000.000000  25000.000000   \n",
              "mean   4.515519e+08    79935.146400     75942.883680   9949.122160   \n",
              "std    2.591254e+08    20182.226902     20225.135135  10625.961423   \n",
              "min    1.069590e+06       53.000000         0.000000   -988.000000   \n",
              "25%    2.276218e+08    66270.500000     62230.000000      0.000000   \n",
              "50%    4.524377e+08    79897.500000     75927.000000      0.000000   \n",
              "75%    6.757868e+08    93666.500000     89715.500000  20029.250000   \n",
              "max    8.999876e+08   183099.000000    180196.000000  39432.000000   \n",
              "\n",
              "       grocery_expense_per_month  current_emis  previous_hike_amount  \\\n",
              "count               25000.000000  25000.000000          25000.000000   \n",
              "mean                 5991.781080  10002.464560           7602.123280   \n",
              "std                   999.229424   3038.416064           3046.982806   \n",
              "min                  2354.000000  -2740.000000              0.000000   \n",
              "25%                  5323.000000   7981.000000           5265.000000   \n",
              "50%                  5992.000000   9975.000000           7216.000000   \n",
              "75%                  6667.000000  12055.000000           9609.000000   \n",
              "max                 10099.000000  22955.000000          22720.000000   \n",
              "\n",
              "       expected_next_hike_amount   loan_amount  repayment_period_months  ...  \\\n",
              "count               25000.000000  2.500000e+04             25000.000000  ...   \n",
              "mean                 9962.920000  5.002104e+05                36.064800  ...   \n",
              "std                  4386.776587  1.977314e+05                16.992657  ...   \n",
              "min                     8.000000  0.000000e+00                12.000000  ...   \n",
              "25%                  6475.000000  3.675880e+05                24.000000  ...   \n",
              "50%                  9403.500000  4.993145e+05                36.000000  ...   \n",
              "75%                 12930.000000  6.341315e+05                48.000000  ...   \n",
              "max                 29803.000000  1.304425e+06                60.000000  ...   \n",
              "\n",
              "       spending_to_income_ratio  repayment_to_income_ratio  \\\n",
              "count              25000.000000               25000.000000   \n",
              "mean                   0.330189                   0.314787   \n",
              "std                    3.468145                   4.553816   \n",
              "min                    0.000000                   0.000000   \n",
              "25%                    0.120000                   0.120000   \n",
              "50%                    0.270000                   0.200000   \n",
              "75%                    0.440000                   0.350000   \n",
              "max                  534.910000                 715.050000   \n",
              "\n",
              "       other_monthly_expenses  savings_per_month  credit_score  num_children  \\\n",
              "count            25000.000000       25000.000000  25000.000000  25000.000000   \n",
              "mean             15001.446680       10023.040120    699.633400      0.507080   \n",
              "std               5022.370813        3015.112995     50.124676      0.961991   \n",
              "min              -5460.000000           0.000000    490.000000      0.000000   \n",
              "25%              11597.500000        7985.000000    666.000000      0.000000   \n",
              "50%              15029.000000       10027.000000    700.000000      0.000000   \n",
              "75%              18435.000000       12045.000000    734.000000      1.000000   \n",
              "max              37785.000000       23488.000000    888.000000      3.000000   \n",
              "\n",
              "        cibil_score  residential_assets_value  commercial_assets_value  \\\n",
              "count  25000.000000              2.500000e+04             2.500000e+04   \n",
              "mean     699.525240              2.001594e+06             1.000135e+06   \n",
              "std       49.973533              4.972480e+05             2.995264e+05   \n",
              "min      509.000000             -1.923350e+05            -5.477000e+04   \n",
              "25%      666.000000              1.667737e+06             7.961625e+05   \n",
              "50%      699.000000              1.999302e+06             9.969580e+05   \n",
              "75%      733.000000              2.337087e+06             1.201422e+06   \n",
              "max      887.000000              4.028521e+06             2.156193e+06   \n",
              "\n",
              "       luxury_assets_value  \n",
              "count         25000.000000  \n",
              "mean         199924.345200  \n",
              "std           49994.566024  \n",
              "min           -6715.000000  \n",
              "25%          166690.750000  \n",
              "50%          200116.000000  \n",
              "75%          233188.000000  \n",
              "max          386570.000000  \n",
              "\n",
              "[8 rows x 27 columns]"
            ],
            "text/html": [
              "\n",
              "  <div id=\"df-670a3dfa-2d75-4295-9862-bd3a087a4795\" class=\"colab-df-container\">\n",
              "    <div>\n",
              "<style scoped>\n",
              "    .dataframe tbody tr th:only-of-type {\n",
              "        vertical-align: middle;\n",
              "    }\n",
              "\n",
              "    .dataframe tbody tr th {\n",
              "        vertical-align: top;\n",
              "    }\n",
              "\n",
              "    .dataframe thead th {\n",
              "        text-align: right;\n",
              "    }\n",
              "</style>\n",
              "<table border=\"1\" class=\"dataframe\">\n",
              "  <thead>\n",
              "    <tr style=\"text-align: right;\">\n",
              "      <th></th>\n",
              "      <th>pan_number</th>\n",
              "      <th>current_salary</th>\n",
              "      <th>previous_salary</th>\n",
              "      <th>rent_amount</th>\n",
              "      <th>grocery_expense_per_month</th>\n",
              "      <th>current_emis</th>\n",
              "      <th>previous_hike_amount</th>\n",
              "      <th>expected_next_hike_amount</th>\n",
              "      <th>loan_amount</th>\n",
              "      <th>repayment_period_months</th>\n",
              "      <th>...</th>\n",
              "      <th>spending_to_income_ratio</th>\n",
              "      <th>repayment_to_income_ratio</th>\n",
              "      <th>other_monthly_expenses</th>\n",
              "      <th>savings_per_month</th>\n",
              "      <th>credit_score</th>\n",
              "      <th>num_children</th>\n",
              "      <th>cibil_score</th>\n",
              "      <th>residential_assets_value</th>\n",
              "      <th>commercial_assets_value</th>\n",
              "      <th>luxury_assets_value</th>\n",
              "    </tr>\n",
              "  </thead>\n",
              "  <tbody>\n",
              "    <tr>\n",
              "      <th>count</th>\n",
              "      <td>2.500000e+04</td>\n",
              "      <td>25000.000000</td>\n",
              "      <td>25000.000000</td>\n",
              "      <td>25000.000000</td>\n",
              "      <td>25000.000000</td>\n",
              "      <td>25000.000000</td>\n",
              "      <td>25000.000000</td>\n",
              "      <td>25000.000000</td>\n",
              "      <td>2.500000e+04</td>\n",
              "      <td>25000.000000</td>\n",
              "      <td>...</td>\n",
              "      <td>25000.000000</td>\n",
              "      <td>25000.000000</td>\n",
              "      <td>25000.000000</td>\n",
              "      <td>25000.000000</td>\n",
              "      <td>25000.000000</td>\n",
              "      <td>25000.000000</td>\n",
              "      <td>25000.000000</td>\n",
              "      <td>2.500000e+04</td>\n",
              "      <td>2.500000e+04</td>\n",
              "      <td>25000.000000</td>\n",
              "    </tr>\n",
              "    <tr>\n",
              "      <th>mean</th>\n",
              "      <td>4.515519e+08</td>\n",
              "      <td>79935.146400</td>\n",
              "      <td>75942.883680</td>\n",
              "      <td>9949.122160</td>\n",
              "      <td>5991.781080</td>\n",
              "      <td>10002.464560</td>\n",
              "      <td>7602.123280</td>\n",
              "      <td>9962.920000</td>\n",
              "      <td>5.002104e+05</td>\n",
              "      <td>36.064800</td>\n",
              "      <td>...</td>\n",
              "      <td>0.330189</td>\n",
              "      <td>0.314787</td>\n",
              "      <td>15001.446680</td>\n",
              "      <td>10023.040120</td>\n",
              "      <td>699.633400</td>\n",
              "      <td>0.507080</td>\n",
              "      <td>699.525240</td>\n",
              "      <td>2.001594e+06</td>\n",
              "      <td>1.000135e+06</td>\n",
              "      <td>199924.345200</td>\n",
              "    </tr>\n",
              "    <tr>\n",
              "      <th>std</th>\n",
              "      <td>2.591254e+08</td>\n",
              "      <td>20182.226902</td>\n",
              "      <td>20225.135135</td>\n",
              "      <td>10625.961423</td>\n",
              "      <td>999.229424</td>\n",
              "      <td>3038.416064</td>\n",
              "      <td>3046.982806</td>\n",
              "      <td>4386.776587</td>\n",
              "      <td>1.977314e+05</td>\n",
              "      <td>16.992657</td>\n",
              "      <td>...</td>\n",
              "      <td>3.468145</td>\n",
              "      <td>4.553816</td>\n",
              "      <td>5022.370813</td>\n",
              "      <td>3015.112995</td>\n",
              "      <td>50.124676</td>\n",
              "      <td>0.961991</td>\n",
              "      <td>49.973533</td>\n",
              "      <td>4.972480e+05</td>\n",
              "      <td>2.995264e+05</td>\n",
              "      <td>49994.566024</td>\n",
              "    </tr>\n",
              "    <tr>\n",
              "      <th>min</th>\n",
              "      <td>1.069590e+06</td>\n",
              "      <td>53.000000</td>\n",
              "      <td>0.000000</td>\n",
              "      <td>-988.000000</td>\n",
              "      <td>2354.000000</td>\n",
              "      <td>-2740.000000</td>\n",
              "      <td>0.000000</td>\n",
              "      <td>8.000000</td>\n",
              "      <td>0.000000e+00</td>\n",
              "      <td>12.000000</td>\n",
              "      <td>...</td>\n",
              "      <td>0.000000</td>\n",
              "      <td>0.000000</td>\n",
              "      <td>-5460.000000</td>\n",
              "      <td>0.000000</td>\n",
              "      <td>490.000000</td>\n",
              "      <td>0.000000</td>\n",
              "      <td>509.000000</td>\n",
              "      <td>-1.923350e+05</td>\n",
              "      <td>-5.477000e+04</td>\n",
              "      <td>-6715.000000</td>\n",
              "    </tr>\n",
              "    <tr>\n",
              "      <th>25%</th>\n",
              "      <td>2.276218e+08</td>\n",
              "      <td>66270.500000</td>\n",
              "      <td>62230.000000</td>\n",
              "      <td>0.000000</td>\n",
              "      <td>5323.000000</td>\n",
              "      <td>7981.000000</td>\n",
              "      <td>5265.000000</td>\n",
              "      <td>6475.000000</td>\n",
              "      <td>3.675880e+05</td>\n",
              "      <td>24.000000</td>\n",
              "      <td>...</td>\n",
              "      <td>0.120000</td>\n",
              "      <td>0.120000</td>\n",
              "      <td>11597.500000</td>\n",
              "      <td>7985.000000</td>\n",
              "      <td>666.000000</td>\n",
              "      <td>0.000000</td>\n",
              "      <td>666.000000</td>\n",
              "      <td>1.667737e+06</td>\n",
              "      <td>7.961625e+05</td>\n",
              "      <td>166690.750000</td>\n",
              "    </tr>\n",
              "    <tr>\n",
              "      <th>50%</th>\n",
              "      <td>4.524377e+08</td>\n",
              "      <td>79897.500000</td>\n",
              "      <td>75927.000000</td>\n",
              "      <td>0.000000</td>\n",
              "      <td>5992.000000</td>\n",
              "      <td>9975.000000</td>\n",
              "      <td>7216.000000</td>\n",
              "      <td>9403.500000</td>\n",
              "      <td>4.993145e+05</td>\n",
              "      <td>36.000000</td>\n",
              "      <td>...</td>\n",
              "      <td>0.270000</td>\n",
              "      <td>0.200000</td>\n",
              "      <td>15029.000000</td>\n",
              "      <td>10027.000000</td>\n",
              "      <td>700.000000</td>\n",
              "      <td>0.000000</td>\n",
              "      <td>699.000000</td>\n",
              "      <td>1.999302e+06</td>\n",
              "      <td>9.969580e+05</td>\n",
              "      <td>200116.000000</td>\n",
              "    </tr>\n",
              "    <tr>\n",
              "      <th>75%</th>\n",
              "      <td>6.757868e+08</td>\n",
              "      <td>93666.500000</td>\n",
              "      <td>89715.500000</td>\n",
              "      <td>20029.250000</td>\n",
              "      <td>6667.000000</td>\n",
              "      <td>12055.000000</td>\n",
              "      <td>9609.000000</td>\n",
              "      <td>12930.000000</td>\n",
              "      <td>6.341315e+05</td>\n",
              "      <td>48.000000</td>\n",
              "      <td>...</td>\n",
              "      <td>0.440000</td>\n",
              "      <td>0.350000</td>\n",
              "      <td>18435.000000</td>\n",
              "      <td>12045.000000</td>\n",
              "      <td>734.000000</td>\n",
              "      <td>1.000000</td>\n",
              "      <td>733.000000</td>\n",
              "      <td>2.337087e+06</td>\n",
              "      <td>1.201422e+06</td>\n",
              "      <td>233188.000000</td>\n",
              "    </tr>\n",
              "    <tr>\n",
              "      <th>max</th>\n",
              "      <td>8.999876e+08</td>\n",
              "      <td>183099.000000</td>\n",
              "      <td>180196.000000</td>\n",
              "      <td>39432.000000</td>\n",
              "      <td>10099.000000</td>\n",
              "      <td>22955.000000</td>\n",
              "      <td>22720.000000</td>\n",
              "      <td>29803.000000</td>\n",
              "      <td>1.304425e+06</td>\n",
              "      <td>60.000000</td>\n",
              "      <td>...</td>\n",
              "      <td>534.910000</td>\n",
              "      <td>715.050000</td>\n",
              "      <td>37785.000000</td>\n",
              "      <td>23488.000000</td>\n",
              "      <td>888.000000</td>\n",
              "      <td>3.000000</td>\n",
              "      <td>887.000000</td>\n",
              "      <td>4.028521e+06</td>\n",
              "      <td>2.156193e+06</td>\n",
              "      <td>386570.000000</td>\n",
              "    </tr>\n",
              "  </tbody>\n",
              "</table>\n",
              "<p>8 rows × 27 columns</p>\n",
              "</div>\n",
              "    <div class=\"colab-df-buttons\">\n",
              "\n",
              "  <div class=\"colab-df-container\">\n",
              "    <button class=\"colab-df-convert\" onclick=\"convertToInteractive('df-670a3dfa-2d75-4295-9862-bd3a087a4795')\"\n",
              "            title=\"Convert this dataframe to an interactive table.\"\n",
              "            style=\"display:none;\">\n",
              "\n",
              "  <svg xmlns=\"http://www.w3.org/2000/svg\" height=\"24px\" viewBox=\"0 -960 960 960\">\n",
              "    <path d=\"M120-120v-720h720v720H120Zm60-500h600v-160H180v160Zm220 220h160v-160H400v160Zm0 220h160v-160H400v160ZM180-400h160v-160H180v160Zm440 0h160v-160H620v160ZM180-180h160v-160H180v160Zm440 0h160v-160H620v160Z\"/>\n",
              "  </svg>\n",
              "    </button>\n",
              "\n",
              "  <style>\n",
              "    .colab-df-container {\n",
              "      display:flex;\n",
              "      gap: 12px;\n",
              "    }\n",
              "\n",
              "    .colab-df-convert {\n",
              "      background-color: #E8F0FE;\n",
              "      border: none;\n",
              "      border-radius: 50%;\n",
              "      cursor: pointer;\n",
              "      display: none;\n",
              "      fill: #1967D2;\n",
              "      height: 32px;\n",
              "      padding: 0 0 0 0;\n",
              "      width: 32px;\n",
              "    }\n",
              "\n",
              "    .colab-df-convert:hover {\n",
              "      background-color: #E2EBFA;\n",
              "      box-shadow: 0px 1px 2px rgba(60, 64, 67, 0.3), 0px 1px 3px 1px rgba(60, 64, 67, 0.15);\n",
              "      fill: #174EA6;\n",
              "    }\n",
              "\n",
              "    .colab-df-buttons div {\n",
              "      margin-bottom: 4px;\n",
              "    }\n",
              "\n",
              "    [theme=dark] .colab-df-convert {\n",
              "      background-color: #3B4455;\n",
              "      fill: #D2E3FC;\n",
              "    }\n",
              "\n",
              "    [theme=dark] .colab-df-convert:hover {\n",
              "      background-color: #434B5C;\n",
              "      box-shadow: 0px 1px 3px 1px rgba(0, 0, 0, 0.15);\n",
              "      filter: drop-shadow(0px 1px 2px rgba(0, 0, 0, 0.3));\n",
              "      fill: #FFFFFF;\n",
              "    }\n",
              "  </style>\n",
              "\n",
              "    <script>\n",
              "      const buttonEl =\n",
              "        document.querySelector('#df-670a3dfa-2d75-4295-9862-bd3a087a4795 button.colab-df-convert');\n",
              "      buttonEl.style.display =\n",
              "        google.colab.kernel.accessAllowed ? 'block' : 'none';\n",
              "\n",
              "      async function convertToInteractive(key) {\n",
              "        const element = document.querySelector('#df-670a3dfa-2d75-4295-9862-bd3a087a4795');\n",
              "        const dataTable =\n",
              "          await google.colab.kernel.invokeFunction('convertToInteractive',\n",
              "                                                    [key], {});\n",
              "        if (!dataTable) return;\n",
              "\n",
              "        const docLinkHtml = 'Like what you see? Visit the ' +\n",
              "          '<a target=\"_blank\" href=https://colab.research.google.com/notebooks/data_table.ipynb>data table notebook</a>'\n",
              "          + ' to learn more about interactive tables.';\n",
              "        element.innerHTML = '';\n",
              "        dataTable['output_type'] = 'display_data';\n",
              "        await google.colab.output.renderOutput(dataTable, element);\n",
              "        const docLink = document.createElement('div');\n",
              "        docLink.innerHTML = docLinkHtml;\n",
              "        element.appendChild(docLink);\n",
              "      }\n",
              "    </script>\n",
              "  </div>\n",
              "\n",
              "\n",
              "<div id=\"df-f808028e-7532-4745-9518-fc413c1a1507\">\n",
              "  <button class=\"colab-df-quickchart\" onclick=\"quickchart('df-f808028e-7532-4745-9518-fc413c1a1507')\"\n",
              "            title=\"Suggest charts\"\n",
              "            style=\"display:none;\">\n",
              "\n",
              "<svg xmlns=\"http://www.w3.org/2000/svg\" height=\"24px\"viewBox=\"0 0 24 24\"\n",
              "     width=\"24px\">\n",
              "    <g>\n",
              "        <path d=\"M19 3H5c-1.1 0-2 .9-2 2v14c0 1.1.9 2 2 2h14c1.1 0 2-.9 2-2V5c0-1.1-.9-2-2-2zM9 17H7v-7h2v7zm4 0h-2V7h2v10zm4 0h-2v-4h2v4z\"/>\n",
              "    </g>\n",
              "</svg>\n",
              "  </button>\n",
              "\n",
              "<style>\n",
              "  .colab-df-quickchart {\n",
              "      --bg-color: #E8F0FE;\n",
              "      --fill-color: #1967D2;\n",
              "      --hover-bg-color: #E2EBFA;\n",
              "      --hover-fill-color: #174EA6;\n",
              "      --disabled-fill-color: #AAA;\n",
              "      --disabled-bg-color: #DDD;\n",
              "  }\n",
              "\n",
              "  [theme=dark] .colab-df-quickchart {\n",
              "      --bg-color: #3B4455;\n",
              "      --fill-color: #D2E3FC;\n",
              "      --hover-bg-color: #434B5C;\n",
              "      --hover-fill-color: #FFFFFF;\n",
              "      --disabled-bg-color: #3B4455;\n",
              "      --disabled-fill-color: #666;\n",
              "  }\n",
              "\n",
              "  .colab-df-quickchart {\n",
              "    background-color: var(--bg-color);\n",
              "    border: none;\n",
              "    border-radius: 50%;\n",
              "    cursor: pointer;\n",
              "    display: none;\n",
              "    fill: var(--fill-color);\n",
              "    height: 32px;\n",
              "    padding: 0;\n",
              "    width: 32px;\n",
              "  }\n",
              "\n",
              "  .colab-df-quickchart:hover {\n",
              "    background-color: var(--hover-bg-color);\n",
              "    box-shadow: 0 1px 2px rgba(60, 64, 67, 0.3), 0 1px 3px 1px rgba(60, 64, 67, 0.15);\n",
              "    fill: var(--button-hover-fill-color);\n",
              "  }\n",
              "\n",
              "  .colab-df-quickchart-complete:disabled,\n",
              "  .colab-df-quickchart-complete:disabled:hover {\n",
              "    background-color: var(--disabled-bg-color);\n",
              "    fill: var(--disabled-fill-color);\n",
              "    box-shadow: none;\n",
              "  }\n",
              "\n",
              "  .colab-df-spinner {\n",
              "    border: 2px solid var(--fill-color);\n",
              "    border-color: transparent;\n",
              "    border-bottom-color: var(--fill-color);\n",
              "    animation:\n",
              "      spin 1s steps(1) infinite;\n",
              "  }\n",
              "\n",
              "  @keyframes spin {\n",
              "    0% {\n",
              "      border-color: transparent;\n",
              "      border-bottom-color: var(--fill-color);\n",
              "      border-left-color: var(--fill-color);\n",
              "    }\n",
              "    20% {\n",
              "      border-color: transparent;\n",
              "      border-left-color: var(--fill-color);\n",
              "      border-top-color: var(--fill-color);\n",
              "    }\n",
              "    30% {\n",
              "      border-color: transparent;\n",
              "      border-left-color: var(--fill-color);\n",
              "      border-top-color: var(--fill-color);\n",
              "      border-right-color: var(--fill-color);\n",
              "    }\n",
              "    40% {\n",
              "      border-color: transparent;\n",
              "      border-right-color: var(--fill-color);\n",
              "      border-top-color: var(--fill-color);\n",
              "    }\n",
              "    60% {\n",
              "      border-color: transparent;\n",
              "      border-right-color: var(--fill-color);\n",
              "    }\n",
              "    80% {\n",
              "      border-color: transparent;\n",
              "      border-right-color: var(--fill-color);\n",
              "      border-bottom-color: var(--fill-color);\n",
              "    }\n",
              "    90% {\n",
              "      border-color: transparent;\n",
              "      border-bottom-color: var(--fill-color);\n",
              "    }\n",
              "  }\n",
              "</style>\n",
              "\n",
              "  <script>\n",
              "    async function quickchart(key) {\n",
              "      const quickchartButtonEl =\n",
              "        document.querySelector('#' + key + ' button');\n",
              "      quickchartButtonEl.disabled = true;  // To prevent multiple clicks.\n",
              "      quickchartButtonEl.classList.add('colab-df-spinner');\n",
              "      try {\n",
              "        const charts = await google.colab.kernel.invokeFunction(\n",
              "            'suggestCharts', [key], {});\n",
              "      } catch (error) {\n",
              "        console.error('Error during call to suggestCharts:', error);\n",
              "      }\n",
              "      quickchartButtonEl.classList.remove('colab-df-spinner');\n",
              "      quickchartButtonEl.classList.add('colab-df-quickchart-complete');\n",
              "    }\n",
              "    (() => {\n",
              "      let quickchartButtonEl =\n",
              "        document.querySelector('#df-f808028e-7532-4745-9518-fc413c1a1507 button');\n",
              "      quickchartButtonEl.style.display =\n",
              "        google.colab.kernel.accessAllowed ? 'block' : 'none';\n",
              "    })();\n",
              "  </script>\n",
              "</div>\n",
              "\n",
              "    </div>\n",
              "  </div>\n"
            ],
            "application/vnd.google.colaboratory.intrinsic+json": {
              "type": "dataframe"
            }
          },
          "metadata": {},
          "execution_count": 8
        }
      ]
    },
    {
      "cell_type": "markdown",
      "source": [
        "# **Null value Finding**"
      ],
      "metadata": {
        "id": "FBiLhmyBbHm6"
      }
    },
    {
      "cell_type": "code",
      "source": [
        "#To view the null value in dataset\n",
        "df.isnull().sum()*100/len(df)"
      ],
      "metadata": {
        "colab": {
          "base_uri": "https://localhost:8080/",
          "height": 1000
        },
        "id": "ahMzW-xMLF49",
        "outputId": "15b8163d-b4e2-4cc1-cbee-fb635a8937fd"
      },
      "execution_count": 9,
      "outputs": [
        {
          "output_type": "execute_result",
          "data": {
            "text/plain": [
              "full_name                         0.0\n",
              "address                           0.0\n",
              "pan_number                        0.0\n",
              "company_name                      0.0\n",
              "current_salary                    0.0\n",
              "previous_salary                   0.0\n",
              "owns_house                        0.0\n",
              "rent_amount                       0.0\n",
              "grocery_expense_per_month         0.0\n",
              "current_emis                      0.0\n",
              "previous_hike_amount              0.0\n",
              "expected_next_hike_amount         0.0\n",
              "bank_name                         0.0\n",
              "loan_amount                       0.0\n",
              "repayment_period_months           0.0\n",
              "emi_amount                        0.0\n",
              "interest_rate                     0.0\n",
              "risk_score                        0.0\n",
              "mall_visits_per_month             0.0\n",
              "average_spending_per_visit        0.0\n",
              "total_monthly_mall_expenditure    0.0\n",
              "loan_to_income_ratio              0.0\n",
              "spending_to_income_ratio          0.0\n",
              "repayment_to_income_ratio         0.0\n",
              "other_monthly_expenses            0.0\n",
              "savings_per_month                 0.0\n",
              "credit_score                      0.0\n",
              "loan_purpose                      0.0\n",
              "employment_status                 0.0\n",
              "marital_status                    0.0\n",
              "num_children                      0.0\n",
              "cibil_score                       0.0\n",
              "residential_assets_value          0.0\n",
              "commercial_assets_value           0.0\n",
              "luxury_assets_value               0.0\n",
              "loan_status                       0.0\n",
              "dtype: float64"
            ],
            "text/html": [
              "<div>\n",
              "<style scoped>\n",
              "    .dataframe tbody tr th:only-of-type {\n",
              "        vertical-align: middle;\n",
              "    }\n",
              "\n",
              "    .dataframe tbody tr th {\n",
              "        vertical-align: top;\n",
              "    }\n",
              "\n",
              "    .dataframe thead th {\n",
              "        text-align: right;\n",
              "    }\n",
              "</style>\n",
              "<table border=\"1\" class=\"dataframe\">\n",
              "  <thead>\n",
              "    <tr style=\"text-align: right;\">\n",
              "      <th></th>\n",
              "      <th>0</th>\n",
              "    </tr>\n",
              "  </thead>\n",
              "  <tbody>\n",
              "    <tr>\n",
              "      <th>full_name</th>\n",
              "      <td>0.0</td>\n",
              "    </tr>\n",
              "    <tr>\n",
              "      <th>address</th>\n",
              "      <td>0.0</td>\n",
              "    </tr>\n",
              "    <tr>\n",
              "      <th>pan_number</th>\n",
              "      <td>0.0</td>\n",
              "    </tr>\n",
              "    <tr>\n",
              "      <th>company_name</th>\n",
              "      <td>0.0</td>\n",
              "    </tr>\n",
              "    <tr>\n",
              "      <th>current_salary</th>\n",
              "      <td>0.0</td>\n",
              "    </tr>\n",
              "    <tr>\n",
              "      <th>previous_salary</th>\n",
              "      <td>0.0</td>\n",
              "    </tr>\n",
              "    <tr>\n",
              "      <th>owns_house</th>\n",
              "      <td>0.0</td>\n",
              "    </tr>\n",
              "    <tr>\n",
              "      <th>rent_amount</th>\n",
              "      <td>0.0</td>\n",
              "    </tr>\n",
              "    <tr>\n",
              "      <th>grocery_expense_per_month</th>\n",
              "      <td>0.0</td>\n",
              "    </tr>\n",
              "    <tr>\n",
              "      <th>current_emis</th>\n",
              "      <td>0.0</td>\n",
              "    </tr>\n",
              "    <tr>\n",
              "      <th>previous_hike_amount</th>\n",
              "      <td>0.0</td>\n",
              "    </tr>\n",
              "    <tr>\n",
              "      <th>expected_next_hike_amount</th>\n",
              "      <td>0.0</td>\n",
              "    </tr>\n",
              "    <tr>\n",
              "      <th>bank_name</th>\n",
              "      <td>0.0</td>\n",
              "    </tr>\n",
              "    <tr>\n",
              "      <th>loan_amount</th>\n",
              "      <td>0.0</td>\n",
              "    </tr>\n",
              "    <tr>\n",
              "      <th>repayment_period_months</th>\n",
              "      <td>0.0</td>\n",
              "    </tr>\n",
              "    <tr>\n",
              "      <th>emi_amount</th>\n",
              "      <td>0.0</td>\n",
              "    </tr>\n",
              "    <tr>\n",
              "      <th>interest_rate</th>\n",
              "      <td>0.0</td>\n",
              "    </tr>\n",
              "    <tr>\n",
              "      <th>risk_score</th>\n",
              "      <td>0.0</td>\n",
              "    </tr>\n",
              "    <tr>\n",
              "      <th>mall_visits_per_month</th>\n",
              "      <td>0.0</td>\n",
              "    </tr>\n",
              "    <tr>\n",
              "      <th>average_spending_per_visit</th>\n",
              "      <td>0.0</td>\n",
              "    </tr>\n",
              "    <tr>\n",
              "      <th>total_monthly_mall_expenditure</th>\n",
              "      <td>0.0</td>\n",
              "    </tr>\n",
              "    <tr>\n",
              "      <th>loan_to_income_ratio</th>\n",
              "      <td>0.0</td>\n",
              "    </tr>\n",
              "    <tr>\n",
              "      <th>spending_to_income_ratio</th>\n",
              "      <td>0.0</td>\n",
              "    </tr>\n",
              "    <tr>\n",
              "      <th>repayment_to_income_ratio</th>\n",
              "      <td>0.0</td>\n",
              "    </tr>\n",
              "    <tr>\n",
              "      <th>other_monthly_expenses</th>\n",
              "      <td>0.0</td>\n",
              "    </tr>\n",
              "    <tr>\n",
              "      <th>savings_per_month</th>\n",
              "      <td>0.0</td>\n",
              "    </tr>\n",
              "    <tr>\n",
              "      <th>credit_score</th>\n",
              "      <td>0.0</td>\n",
              "    </tr>\n",
              "    <tr>\n",
              "      <th>loan_purpose</th>\n",
              "      <td>0.0</td>\n",
              "    </tr>\n",
              "    <tr>\n",
              "      <th>employment_status</th>\n",
              "      <td>0.0</td>\n",
              "    </tr>\n",
              "    <tr>\n",
              "      <th>marital_status</th>\n",
              "      <td>0.0</td>\n",
              "    </tr>\n",
              "    <tr>\n",
              "      <th>num_children</th>\n",
              "      <td>0.0</td>\n",
              "    </tr>\n",
              "    <tr>\n",
              "      <th>cibil_score</th>\n",
              "      <td>0.0</td>\n",
              "    </tr>\n",
              "    <tr>\n",
              "      <th>residential_assets_value</th>\n",
              "      <td>0.0</td>\n",
              "    </tr>\n",
              "    <tr>\n",
              "      <th>commercial_assets_value</th>\n",
              "      <td>0.0</td>\n",
              "    </tr>\n",
              "    <tr>\n",
              "      <th>luxury_assets_value</th>\n",
              "      <td>0.0</td>\n",
              "    </tr>\n",
              "    <tr>\n",
              "      <th>loan_status</th>\n",
              "      <td>0.0</td>\n",
              "    </tr>\n",
              "  </tbody>\n",
              "</table>\n",
              "</div><br><label><b>dtype:</b> float64</label>"
            ]
          },
          "metadata": {},
          "execution_count": 9
        }
      ]
    },
    {
      "cell_type": "markdown",
      "source": [
        "## **Fill the Null values with Zero**"
      ],
      "metadata": {
        "id": "JMAWKmVsbtFd"
      }
    },
    {
      "cell_type": "code",
      "source": [
        "#incase any null value find it updates value with zero\n",
        "df.fillna(0, inplace=True)"
      ],
      "metadata": {
        "id": "NpPEg6zsd6iE"
      },
      "execution_count": 10,
      "outputs": []
    },
    {
      "cell_type": "markdown",
      "source": [
        "# **To missing value with Imputation method**"
      ],
      "metadata": {
        "id": "N3LLHaccQZ94"
      }
    },
    {
      "cell_type": "code",
      "source": [
        "# #if any missing values occur the imputation methon can be help in this case i have no null values so leave it\n",
        "# df['loan_status'].mode(0)"
      ],
      "metadata": {
        "id": "jGN_-MNtQfMg"
      },
      "execution_count": 11,
      "outputs": []
    },
    {
      "cell_type": "markdown",
      "source": [
        "# **Drop A UnNeccesary Columns**"
      ],
      "metadata": {
        "id": "n1-dgj5nKlnK"
      }
    },
    {
      "cell_type": "code",
      "source": [
        "#In this case name,addrees,companyname ,loan puropose it can be categorail data so drop the column\n",
        "df.dropna(inplace=True)"
      ],
      "metadata": {
        "id": "CKTVnvlw8kFK"
      },
      "execution_count": 12,
      "outputs": []
    },
    {
      "cell_type": "markdown",
      "source": [
        "# **To replace the categorial value to numerical**"
      ],
      "metadata": {
        "id": "DGgBY2goSdeK"
      }
    },
    {
      "cell_type": "code",
      "source": [
        "# Replace 'NO' with 0 and 'YES' with 1 in the 'loan_status' column\n",
        "df.replace({\"loan_status\": {\"Rejected\": 0, \"Approved\": 1}}, inplace=True)\n",
        "df.head()"
      ],
      "metadata": {
        "colab": {
          "base_uri": "https://localhost:8080/",
          "height": 533
        },
        "id": "0OoMQQmeSiwe",
        "outputId": "e8c8d83a-01bb-4cd4-868e-353b7f259e3e"
      },
      "execution_count": 13,
      "outputs": [
        {
          "output_type": "execute_result",
          "data": {
            "text/plain": [
              "                full_name                                          address  \\\n",
              "0  Mrs Michelle Castaneda            047 Martin Forges Karenmouth ND 17819   \n",
              "1             Chelsea Fox    266 Robin Spurs Suite 734 Lake Wendy CT 11177   \n",
              "2             Mark Flores        48736 Louis Corners Herreraburgh AZ 32473   \n",
              "3          Mason Atkinson  17038 Jackson Junctions Gregorychester NJ 24536   \n",
              "4         Dominique Scott             990 Chandler Road Morseport WY 58113   \n",
              "\n",
              "   pan_number                   company_name  current_salary  previous_salary  \\\n",
              "0   331287521       Moran Oneill and Russell           55906            50559   \n",
              "1   285303479     Pierce Campbell and Santos          123408           120515   \n",
              "2   314116551     Chapman Edwards and Flores           94095            88997   \n",
              "3    18672344        Olsen Anderson and Vega          122360           117638   \n",
              "4   606359561  Lowery Johnson and Cunningham           80529            75537   \n",
              "\n",
              "   owns_house  rent_amount  grocery_expense_per_month  current_emis  ...  \\\n",
              "0       False        17315                       6858          5491  ...   \n",
              "1        True            0                       6306          9959  ...   \n",
              "2       False        25729                       5338         11791  ...   \n",
              "3        True            0                       6156          9608  ...   \n",
              "4       False        18605                       6232         11721  ...   \n",
              "\n",
              "   credit_score        loan_purpose employment_status  marital_status  \\\n",
              "0           695           Education         Full-time          Single   \n",
              "1           673              Travel          Contract         Married   \n",
              "2           710  Business Expansion         Full-time         Married   \n",
              "3           665  Business Expansion         Part-time          Single   \n",
              "4           662   Personal Expenses          Contract        Divorced   \n",
              "\n",
              "   num_children  cibil_score  residential_assets_value  \\\n",
              "0             0          752                   2285192   \n",
              "1             3          658                   2210520   \n",
              "2             3          666                   1306980   \n",
              "3             0          647                   1467942   \n",
              "4             0          718                   1789499   \n",
              "\n",
              "   commercial_assets_value  luxury_assets_value  loan_status  \n",
              "0                  1065331               261645            1  \n",
              "1                  1055501               217845            0  \n",
              "2                   439866               186339            1  \n",
              "3                  1231818               190169            0  \n",
              "4                   909552               199499            0  \n",
              "\n",
              "[5 rows x 36 columns]"
            ],
            "text/html": [
              "\n",
              "  <div id=\"df-cbe2192c-5fbf-4eb5-9ebd-edf556ffc19e\" class=\"colab-df-container\">\n",
              "    <div>\n",
              "<style scoped>\n",
              "    .dataframe tbody tr th:only-of-type {\n",
              "        vertical-align: middle;\n",
              "    }\n",
              "\n",
              "    .dataframe tbody tr th {\n",
              "        vertical-align: top;\n",
              "    }\n",
              "\n",
              "    .dataframe thead th {\n",
              "        text-align: right;\n",
              "    }\n",
              "</style>\n",
              "<table border=\"1\" class=\"dataframe\">\n",
              "  <thead>\n",
              "    <tr style=\"text-align: right;\">\n",
              "      <th></th>\n",
              "      <th>full_name</th>\n",
              "      <th>address</th>\n",
              "      <th>pan_number</th>\n",
              "      <th>company_name</th>\n",
              "      <th>current_salary</th>\n",
              "      <th>previous_salary</th>\n",
              "      <th>owns_house</th>\n",
              "      <th>rent_amount</th>\n",
              "      <th>grocery_expense_per_month</th>\n",
              "      <th>current_emis</th>\n",
              "      <th>...</th>\n",
              "      <th>credit_score</th>\n",
              "      <th>loan_purpose</th>\n",
              "      <th>employment_status</th>\n",
              "      <th>marital_status</th>\n",
              "      <th>num_children</th>\n",
              "      <th>cibil_score</th>\n",
              "      <th>residential_assets_value</th>\n",
              "      <th>commercial_assets_value</th>\n",
              "      <th>luxury_assets_value</th>\n",
              "      <th>loan_status</th>\n",
              "    </tr>\n",
              "  </thead>\n",
              "  <tbody>\n",
              "    <tr>\n",
              "      <th>0</th>\n",
              "      <td>Mrs Michelle Castaneda</td>\n",
              "      <td>047 Martin Forges Karenmouth ND 17819</td>\n",
              "      <td>331287521</td>\n",
              "      <td>Moran Oneill and Russell</td>\n",
              "      <td>55906</td>\n",
              "      <td>50559</td>\n",
              "      <td>False</td>\n",
              "      <td>17315</td>\n",
              "      <td>6858</td>\n",
              "      <td>5491</td>\n",
              "      <td>...</td>\n",
              "      <td>695</td>\n",
              "      <td>Education</td>\n",
              "      <td>Full-time</td>\n",
              "      <td>Single</td>\n",
              "      <td>0</td>\n",
              "      <td>752</td>\n",
              "      <td>2285192</td>\n",
              "      <td>1065331</td>\n",
              "      <td>261645</td>\n",
              "      <td>1</td>\n",
              "    </tr>\n",
              "    <tr>\n",
              "      <th>1</th>\n",
              "      <td>Chelsea Fox</td>\n",
              "      <td>266 Robin Spurs Suite 734 Lake Wendy CT 11177</td>\n",
              "      <td>285303479</td>\n",
              "      <td>Pierce Campbell and Santos</td>\n",
              "      <td>123408</td>\n",
              "      <td>120515</td>\n",
              "      <td>True</td>\n",
              "      <td>0</td>\n",
              "      <td>6306</td>\n",
              "      <td>9959</td>\n",
              "      <td>...</td>\n",
              "      <td>673</td>\n",
              "      <td>Travel</td>\n",
              "      <td>Contract</td>\n",
              "      <td>Married</td>\n",
              "      <td>3</td>\n",
              "      <td>658</td>\n",
              "      <td>2210520</td>\n",
              "      <td>1055501</td>\n",
              "      <td>217845</td>\n",
              "      <td>0</td>\n",
              "    </tr>\n",
              "    <tr>\n",
              "      <th>2</th>\n",
              "      <td>Mark Flores</td>\n",
              "      <td>48736 Louis Corners Herreraburgh AZ 32473</td>\n",
              "      <td>314116551</td>\n",
              "      <td>Chapman Edwards and Flores</td>\n",
              "      <td>94095</td>\n",
              "      <td>88997</td>\n",
              "      <td>False</td>\n",
              "      <td>25729</td>\n",
              "      <td>5338</td>\n",
              "      <td>11791</td>\n",
              "      <td>...</td>\n",
              "      <td>710</td>\n",
              "      <td>Business Expansion</td>\n",
              "      <td>Full-time</td>\n",
              "      <td>Married</td>\n",
              "      <td>3</td>\n",
              "      <td>666</td>\n",
              "      <td>1306980</td>\n",
              "      <td>439866</td>\n",
              "      <td>186339</td>\n",
              "      <td>1</td>\n",
              "    </tr>\n",
              "    <tr>\n",
              "      <th>3</th>\n",
              "      <td>Mason Atkinson</td>\n",
              "      <td>17038 Jackson Junctions Gregorychester NJ 24536</td>\n",
              "      <td>18672344</td>\n",
              "      <td>Olsen Anderson and Vega</td>\n",
              "      <td>122360</td>\n",
              "      <td>117638</td>\n",
              "      <td>True</td>\n",
              "      <td>0</td>\n",
              "      <td>6156</td>\n",
              "      <td>9608</td>\n",
              "      <td>...</td>\n",
              "      <td>665</td>\n",
              "      <td>Business Expansion</td>\n",
              "      <td>Part-time</td>\n",
              "      <td>Single</td>\n",
              "      <td>0</td>\n",
              "      <td>647</td>\n",
              "      <td>1467942</td>\n",
              "      <td>1231818</td>\n",
              "      <td>190169</td>\n",
              "      <td>0</td>\n",
              "    </tr>\n",
              "    <tr>\n",
              "      <th>4</th>\n",
              "      <td>Dominique Scott</td>\n",
              "      <td>990 Chandler Road Morseport WY 58113</td>\n",
              "      <td>606359561</td>\n",
              "      <td>Lowery Johnson and Cunningham</td>\n",
              "      <td>80529</td>\n",
              "      <td>75537</td>\n",
              "      <td>False</td>\n",
              "      <td>18605</td>\n",
              "      <td>6232</td>\n",
              "      <td>11721</td>\n",
              "      <td>...</td>\n",
              "      <td>662</td>\n",
              "      <td>Personal Expenses</td>\n",
              "      <td>Contract</td>\n",
              "      <td>Divorced</td>\n",
              "      <td>0</td>\n",
              "      <td>718</td>\n",
              "      <td>1789499</td>\n",
              "      <td>909552</td>\n",
              "      <td>199499</td>\n",
              "      <td>0</td>\n",
              "    </tr>\n",
              "  </tbody>\n",
              "</table>\n",
              "<p>5 rows × 36 columns</p>\n",
              "</div>\n",
              "    <div class=\"colab-df-buttons\">\n",
              "\n",
              "  <div class=\"colab-df-container\">\n",
              "    <button class=\"colab-df-convert\" onclick=\"convertToInteractive('df-cbe2192c-5fbf-4eb5-9ebd-edf556ffc19e')\"\n",
              "            title=\"Convert this dataframe to an interactive table.\"\n",
              "            style=\"display:none;\">\n",
              "\n",
              "  <svg xmlns=\"http://www.w3.org/2000/svg\" height=\"24px\" viewBox=\"0 -960 960 960\">\n",
              "    <path d=\"M120-120v-720h720v720H120Zm60-500h600v-160H180v160Zm220 220h160v-160H400v160Zm0 220h160v-160H400v160ZM180-400h160v-160H180v160Zm440 0h160v-160H620v160ZM180-180h160v-160H180v160Zm440 0h160v-160H620v160Z\"/>\n",
              "  </svg>\n",
              "    </button>\n",
              "\n",
              "  <style>\n",
              "    .colab-df-container {\n",
              "      display:flex;\n",
              "      gap: 12px;\n",
              "    }\n",
              "\n",
              "    .colab-df-convert {\n",
              "      background-color: #E8F0FE;\n",
              "      border: none;\n",
              "      border-radius: 50%;\n",
              "      cursor: pointer;\n",
              "      display: none;\n",
              "      fill: #1967D2;\n",
              "      height: 32px;\n",
              "      padding: 0 0 0 0;\n",
              "      width: 32px;\n",
              "    }\n",
              "\n",
              "    .colab-df-convert:hover {\n",
              "      background-color: #E2EBFA;\n",
              "      box-shadow: 0px 1px 2px rgba(60, 64, 67, 0.3), 0px 1px 3px 1px rgba(60, 64, 67, 0.15);\n",
              "      fill: #174EA6;\n",
              "    }\n",
              "\n",
              "    .colab-df-buttons div {\n",
              "      margin-bottom: 4px;\n",
              "    }\n",
              "\n",
              "    [theme=dark] .colab-df-convert {\n",
              "      background-color: #3B4455;\n",
              "      fill: #D2E3FC;\n",
              "    }\n",
              "\n",
              "    [theme=dark] .colab-df-convert:hover {\n",
              "      background-color: #434B5C;\n",
              "      box-shadow: 0px 1px 3px 1px rgba(0, 0, 0, 0.15);\n",
              "      filter: drop-shadow(0px 1px 2px rgba(0, 0, 0, 0.3));\n",
              "      fill: #FFFFFF;\n",
              "    }\n",
              "  </style>\n",
              "\n",
              "    <script>\n",
              "      const buttonEl =\n",
              "        document.querySelector('#df-cbe2192c-5fbf-4eb5-9ebd-edf556ffc19e button.colab-df-convert');\n",
              "      buttonEl.style.display =\n",
              "        google.colab.kernel.accessAllowed ? 'block' : 'none';\n",
              "\n",
              "      async function convertToInteractive(key) {\n",
              "        const element = document.querySelector('#df-cbe2192c-5fbf-4eb5-9ebd-edf556ffc19e');\n",
              "        const dataTable =\n",
              "          await google.colab.kernel.invokeFunction('convertToInteractive',\n",
              "                                                    [key], {});\n",
              "        if (!dataTable) return;\n",
              "\n",
              "        const docLinkHtml = 'Like what you see? Visit the ' +\n",
              "          '<a target=\"_blank\" href=https://colab.research.google.com/notebooks/data_table.ipynb>data table notebook</a>'\n",
              "          + ' to learn more about interactive tables.';\n",
              "        element.innerHTML = '';\n",
              "        dataTable['output_type'] = 'display_data';\n",
              "        await google.colab.output.renderOutput(dataTable, element);\n",
              "        const docLink = document.createElement('div');\n",
              "        docLink.innerHTML = docLinkHtml;\n",
              "        element.appendChild(docLink);\n",
              "      }\n",
              "    </script>\n",
              "  </div>\n",
              "\n",
              "\n",
              "<div id=\"df-c7ef5239-4b6c-416e-8f14-ea1a39949042\">\n",
              "  <button class=\"colab-df-quickchart\" onclick=\"quickchart('df-c7ef5239-4b6c-416e-8f14-ea1a39949042')\"\n",
              "            title=\"Suggest charts\"\n",
              "            style=\"display:none;\">\n",
              "\n",
              "<svg xmlns=\"http://www.w3.org/2000/svg\" height=\"24px\"viewBox=\"0 0 24 24\"\n",
              "     width=\"24px\">\n",
              "    <g>\n",
              "        <path d=\"M19 3H5c-1.1 0-2 .9-2 2v14c0 1.1.9 2 2 2h14c1.1 0 2-.9 2-2V5c0-1.1-.9-2-2-2zM9 17H7v-7h2v7zm4 0h-2V7h2v10zm4 0h-2v-4h2v4z\"/>\n",
              "    </g>\n",
              "</svg>\n",
              "  </button>\n",
              "\n",
              "<style>\n",
              "  .colab-df-quickchart {\n",
              "      --bg-color: #E8F0FE;\n",
              "      --fill-color: #1967D2;\n",
              "      --hover-bg-color: #E2EBFA;\n",
              "      --hover-fill-color: #174EA6;\n",
              "      --disabled-fill-color: #AAA;\n",
              "      --disabled-bg-color: #DDD;\n",
              "  }\n",
              "\n",
              "  [theme=dark] .colab-df-quickchart {\n",
              "      --bg-color: #3B4455;\n",
              "      --fill-color: #D2E3FC;\n",
              "      --hover-bg-color: #434B5C;\n",
              "      --hover-fill-color: #FFFFFF;\n",
              "      --disabled-bg-color: #3B4455;\n",
              "      --disabled-fill-color: #666;\n",
              "  }\n",
              "\n",
              "  .colab-df-quickchart {\n",
              "    background-color: var(--bg-color);\n",
              "    border: none;\n",
              "    border-radius: 50%;\n",
              "    cursor: pointer;\n",
              "    display: none;\n",
              "    fill: var(--fill-color);\n",
              "    height: 32px;\n",
              "    padding: 0;\n",
              "    width: 32px;\n",
              "  }\n",
              "\n",
              "  .colab-df-quickchart:hover {\n",
              "    background-color: var(--hover-bg-color);\n",
              "    box-shadow: 0 1px 2px rgba(60, 64, 67, 0.3), 0 1px 3px 1px rgba(60, 64, 67, 0.15);\n",
              "    fill: var(--button-hover-fill-color);\n",
              "  }\n",
              "\n",
              "  .colab-df-quickchart-complete:disabled,\n",
              "  .colab-df-quickchart-complete:disabled:hover {\n",
              "    background-color: var(--disabled-bg-color);\n",
              "    fill: var(--disabled-fill-color);\n",
              "    box-shadow: none;\n",
              "  }\n",
              "\n",
              "  .colab-df-spinner {\n",
              "    border: 2px solid var(--fill-color);\n",
              "    border-color: transparent;\n",
              "    border-bottom-color: var(--fill-color);\n",
              "    animation:\n",
              "      spin 1s steps(1) infinite;\n",
              "  }\n",
              "\n",
              "  @keyframes spin {\n",
              "    0% {\n",
              "      border-color: transparent;\n",
              "      border-bottom-color: var(--fill-color);\n",
              "      border-left-color: var(--fill-color);\n",
              "    }\n",
              "    20% {\n",
              "      border-color: transparent;\n",
              "      border-left-color: var(--fill-color);\n",
              "      border-top-color: var(--fill-color);\n",
              "    }\n",
              "    30% {\n",
              "      border-color: transparent;\n",
              "      border-left-color: var(--fill-color);\n",
              "      border-top-color: var(--fill-color);\n",
              "      border-right-color: var(--fill-color);\n",
              "    }\n",
              "    40% {\n",
              "      border-color: transparent;\n",
              "      border-right-color: var(--fill-color);\n",
              "      border-top-color: var(--fill-color);\n",
              "    }\n",
              "    60% {\n",
              "      border-color: transparent;\n",
              "      border-right-color: var(--fill-color);\n",
              "    }\n",
              "    80% {\n",
              "      border-color: transparent;\n",
              "      border-right-color: var(--fill-color);\n",
              "      border-bottom-color: var(--fill-color);\n",
              "    }\n",
              "    90% {\n",
              "      border-color: transparent;\n",
              "      border-bottom-color: var(--fill-color);\n",
              "    }\n",
              "  }\n",
              "</style>\n",
              "\n",
              "  <script>\n",
              "    async function quickchart(key) {\n",
              "      const quickchartButtonEl =\n",
              "        document.querySelector('#' + key + ' button');\n",
              "      quickchartButtonEl.disabled = true;  // To prevent multiple clicks.\n",
              "      quickchartButtonEl.classList.add('colab-df-spinner');\n",
              "      try {\n",
              "        const charts = await google.colab.kernel.invokeFunction(\n",
              "            'suggestCharts', [key], {});\n",
              "      } catch (error) {\n",
              "        console.error('Error during call to suggestCharts:', error);\n",
              "      }\n",
              "      quickchartButtonEl.classList.remove('colab-df-spinner');\n",
              "      quickchartButtonEl.classList.add('colab-df-quickchart-complete');\n",
              "    }\n",
              "    (() => {\n",
              "      let quickchartButtonEl =\n",
              "        document.querySelector('#df-c7ef5239-4b6c-416e-8f14-ea1a39949042 button');\n",
              "      quickchartButtonEl.style.display =\n",
              "        google.colab.kernel.accessAllowed ? 'block' : 'none';\n",
              "    })();\n",
              "  </script>\n",
              "</div>\n",
              "\n",
              "    </div>\n",
              "  </div>\n"
            ],
            "application/vnd.google.colaboratory.intrinsic+json": {
              "type": "dataframe",
              "variable_name": "df"
            }
          },
          "metadata": {},
          "execution_count": 13
        }
      ]
    },
    {
      "cell_type": "markdown",
      "source": [
        "# **To Visualize the All Features**"
      ],
      "metadata": {
        "id": "rV3JLi4SLKSR"
      }
    },
    {
      "cell_type": "code",
      "source": [
        "#target Features\n",
        "sns.countplot(x=df[\"loan_status\"])"
      ],
      "metadata": {
        "colab": {
          "base_uri": "https://localhost:8080/",
          "height": 468
        },
        "id": "v9pOOESlLQ2E",
        "outputId": "07baba9a-9d13-4c06-cc03-91f1b7b539b0"
      },
      "execution_count": 14,
      "outputs": [
        {
          "output_type": "execute_result",
          "data": {
            "text/plain": [
              "<Axes: xlabel='loan_status', ylabel='count'>"
            ]
          },
          "metadata": {},
          "execution_count": 14
        },
        {
          "output_type": "display_data",
          "data": {
            "text/plain": [
              "<Figure size 640x480 with 1 Axes>"
            ],
            "image/png": "[encoded data removed]"
          },
          "metadata": {}
        }
      ]
    },
    {
      "cell_type": "markdown",
      "source": [
        "# **Feature Visualization**"
      ],
      "metadata": {
        "id": "dT-cASa8MbRX"
      }
    },
    {
      "cell_type": "code",
      "source": [
        "# Create a histogram\n",
        "plt.figure(figsize=(10, 6))\n",
        "sns.histplot(data=df, x='loan_amount', hue='loan_status', palette='viridis', multiple='stack')\n",
        "plt.title('Distribution of Loan Amount by Loan Status')\n",
        "plt.xlabel('Loan Amount')\n",
        "plt.ylabel('Count')\n",
        "plt.legend(title='Loan Status')\n",
        "plt.show()"
      ],
      "metadata": {
        "colab": {
          "base_uri": "https://localhost:8080/",
          "height": 602
        },
        "id": "-v9UkSZeMmSG",
        "outputId": "10465ced-3cde-41b5-91fd-c3fdc0481afe"
      },
      "execution_count": 15,
      "outputs": [
        {
          "output_type": "stream",
          "name": "stderr",
          "text": [
            "WARNING:matplotlib.legend:No artists with labels found to put in legend.  Note that artists whose label start with an underscore are ignored when legend() is called with no argument.\n"
          ]
        },
        {
          "output_type": "display_data",
          "data": {
            "text/plain": [
              "<Figure size 1000x600 with 1 Axes>"
            ],
            "image/png": "[encoded data removed]"
          },
          "metadata": {}
        }
      ]
    },
    {
      "cell_type": "markdown",
      "source": [
        "## **Feature Engineering**"
      ],
      "metadata": {
        "id": "SBA-TSa90Lgn"
      }
    },
    {
      "cell_type": "code",
      "source": [
        "\n"
      ],
      "metadata": {
        "id": "3trz8KqLQ72-"
      },
      "execution_count": 15,
      "outputs": []
    },
    {
      "cell_type": "code",
      "source": [
        "#Define Features and Target Variables\n",
        "\n",
        "# Define features and target\n",
        "features = [\n",
        "    'current_salary', 'loan_amount', 'residential_assets_value', 'commercial_assets_value',\n",
        "    'luxury_assets_value', 'loan_to_income_ratio', 'spending_to_income_ratio',\n",
        "    'repayment_to_income_ratio', 'credit_score', 'cibil_score',\n",
        "    'savings_per_month', 'average_spending_per_visit','other_monthly_expenses',\n",
        "    'total_monthly_mall_expenditure', 'emi_amount', 'current_emis','previous_hike_amount','expected_next_hike_amount'\n",
        "]\n",
        "\n",
        "X = df[features]\n",
        "y = df['loan_status']\n"
      ],
      "metadata": {
        "id": "Wpz7_0sYRj-9"
      },
      "execution_count": 16,
      "outputs": []
    },
    {
      "cell_type": "markdown",
      "source": [
        "# **Traing and Testing Spliting the Model**"
      ],
      "metadata": {
        "id": "Uaw7As6C0U_o"
      }
    },
    {
      "cell_type": "code",
      "source": [
        "from sklearn.model_selection import train_test_split\n",
        "\n",
        "X_train, X_test, y_train, y_test = train_test_split(X, y, test_size=0.2, random_state=42)"
      ],
      "metadata": {
        "id": "NUD6qA7sYPcs"
      },
      "execution_count": 17,
      "outputs": []
    },
    {
      "cell_type": "markdown",
      "source": [
        "# **To Encode the Feature With Numeric Values**"
      ],
      "metadata": {
        "id": "tsfHScGd0eo1"
      }
    },
    {
      "cell_type": "code",
      "source": [
        "# Standardize the features\n",
        "#feature Scaling\n",
        "from sklearn.preprocessing import StandardScaler\n",
        "scaler = StandardScaler()\n",
        "X_train_scaled = scaler.fit_transform(X_train)\n",
        "X_test_scaled = scaler.transform(X_test)"
      ],
      "metadata": {
        "id": "r0_m61eF36fO"
      },
      "execution_count": 18,
      "outputs": []
    },
    {
      "cell_type": "markdown",
      "source": [
        "# Traning a Model"
      ],
      "metadata": {
        "id": "sMwCrpaE0xtJ"
      }
    },
    {
      "cell_type": "markdown",
      "source": [],
      "metadata": {
        "id": "Tq_Rz9VG0wBn"
      }
    },
    {
      "cell_type": "code",
      "source": [
        "\n",
        "# Train the model\n",
        "from sklearn.ensemble import RandomForestClassifier\n",
        "from sklearn.metrics import classification_report, confusion_matrix\n",
        "\n",
        "\n",
        "model = RandomForestClassifier(n_estimators=100, random_state=42)\n",
        "model.fit(X_train_scaled, y_train)\n",
        "X_train_scaled.shape"
      ],
      "metadata": {
        "colab": {
          "base_uri": "https://localhost:8080/"
        },
        "id": "-G1deLDWelzI",
        "outputId": "25e37461-c118-494a-b1fb-9819087b59ff"
      },
      "execution_count": 19,
      "outputs": [
        {
          "output_type": "execute_result",
          "data": {
            "text/plain": [
              "(20000, 18)"
            ]
          },
          "metadata": {},
          "execution_count": 19
        }
      ]
    },
    {
      "cell_type": "markdown",
      "source": [
        "# Predict The Model"
      ],
      "metadata": {
        "id": "c2ZtmGK503_w"
      }
    },
    {
      "cell_type": "code",
      "source": [
        "# Predict on the test set\n",
        "from sklearn import metrics\n",
        "y_pred = model.predict(X_test_scaled)\n",
        "print(\"accuracy of random Forest Classifier :\",metrics.accuracy_score(y_test, y_pred))\n",
        "y_pred"
      ],
      "metadata": {
        "id": "h6eAyBXd5X7_",
        "colab": {
          "base_uri": "https://localhost:8080/"
        },
        "outputId": "68353355-66d1-444a-84fd-87294a55af20"
      },
      "execution_count": 20,
      "outputs": [
        {
          "output_type": "stream",
          "name": "stdout",
          "text": [
            "accuracy of random Forest Classifier : 0.8422\n"
          ]
        },
        {
          "output_type": "execute_result",
          "data": {
            "text/plain": [
              "array([0, 0, 0, ..., 0, 0, 1])"
            ]
          },
          "metadata": {},
          "execution_count": 20
        }
      ]
    },
    {
      "cell_type": "markdown",
      "source": [
        "## Evaluate the model"
      ],
      "metadata": {
        "id": "H72C0sW31INQ"
      }
    },
    {
      "cell_type": "code",
      "source": [
        "# Evaluate the model\n",
        "print(\"Classification Report:\")\n",
        "print(classification_report(y_test, y_pred))\n"
      ],
      "metadata": {
        "colab": {
          "base_uri": "https://localhost:8080/"
        },
        "id": "FBYbriEdYUg4",
        "outputId": "253221b4-bff8-42ac-f4ad-1fec2377aa08"
      },
      "execution_count": 21,
      "outputs": [
        {
          "output_type": "stream",
          "name": "stdout",
          "text": [
            "Classification Report:\n",
            "              precision    recall  f1-score   support\n",
            "\n",
            "           0       0.85      0.90      0.88      3139\n",
            "           1       0.82      0.74      0.78      1861\n",
            "\n",
            "    accuracy                           0.84      5000\n",
            "   macro avg       0.84      0.82      0.83      5000\n",
            "weighted avg       0.84      0.84      0.84      5000\n",
            "\n"
          ]
        }
      ]
    },
    {
      "cell_type": "markdown",
      "source": [
        "# **Navie Bayes Classifier**"
      ],
      "metadata": {
        "id": "obsddKgVU9uK"
      }
    },
    {
      "cell_type": "code",
      "source": [
        "#to check with diff alogoithm in that case it is naviebayes\n",
        "from sklearn.naive_bayes import GaussianNB\n",
        "from sklearn.metrics import accuracy_score\n",
        "nb_clasifier = GaussianNB()\n",
        "nb_clasifier.fit(X_train_scaled, y_train)\n",
        "y_pred = nb_clasifier.predict(X_test_scaled)"
      ],
      "metadata": {
        "id": "bWzGyd7HUTLJ"
      },
      "execution_count": 22,
      "outputs": []
    },
    {
      "cell_type": "code",
      "source": [
        "from sklearn import metrics\n",
        "y_pred = nb_clasifier.predict(X_test_scaled)\n",
        "print(\"accuracy of Navie Bayes Classifier :\",metrics.accuracy_score(y_test, y_pred))\n",
        "y_pred"
      ],
      "metadata": {
        "colab": {
          "base_uri": "https://localhost:8080/"
        },
        "id": "asQHU3rpUtH6",
        "outputId": "eb59d9ca-7d59-42bc-9bd2-db4ef58206d5"
      },
      "execution_count": 24,
      "outputs": [
        {
          "output_type": "stream",
          "name": "stdout",
          "text": [
            "accuracy of Navie Bayes Classifier : 0.6294\n"
          ]
        },
        {
          "output_type": "execute_result",
          "data": {
            "text/plain": [
              "array([1, 1, 1, ..., 1, 1, 1])"
            ]
          },
          "metadata": {},
          "execution_count": 24
        }
      ]
    },
    {
      "cell_type": "markdown",
      "source": [
        "# **Decision Tree**"
      ],
      "metadata": {
        "id": "ZVH384njVNX9"
      }
    },
    {
      "cell_type": "code",
      "source": [
        "from sklearn.tree import DecisionTreeClassifier\n",
        "from sklearn.metrics import accuracy_score\n",
        "dt_classifier = DecisionTreeClassifier()\n",
        "dt_classifier.fit(X_train_scaled, y_train)\n",
        "y_pred = dt_classifier.predict(X_test_scaled)"
      ],
      "metadata": {
        "id": "-5-DrT_2VRtm"
      },
      "execution_count": 25,
      "outputs": []
    },
    {
      "cell_type": "code",
      "source": [
        "from sklearn import metrics\n",
        "y_pred = dt_classifier.predict(X_test_scaled)\n",
        "print(\"accuracy of Decision Tree Classifier :\",metrics.accuracy_score(y_test, y_pred))\n",
        "y_pred"
      ],
      "metadata": {
        "colab": {
          "base_uri": "https://localhost:8080/"
        },
        "id": "2IW3dgOpVZ5i",
        "outputId": "b9737d69-93de-42d3-a597-8369557a9b53"
      },
      "execution_count": 27,
      "outputs": [
        {
          "output_type": "stream",
          "name": "stdout",
          "text": [
            "accuracy of Decision Tree Classifier : 0.7796\n"
          ]
        },
        {
          "output_type": "execute_result",
          "data": {
            "text/plain": [
              "array([1, 0, 0, ..., 0, 0, 1])"
            ]
          },
          "metadata": {},
          "execution_count": 27
        }
      ]
    },
    {
      "cell_type": "markdown",
      "source": [
        "# **K-Nearst Neighbour**"
      ],
      "metadata": {
        "id": "jxxsTP32Vmt5"
      }
    },
    {
      "cell_type": "code",
      "source": [
        "from sklearn.neighbors import KNeighborsClassifier\n",
        "from sklearn.metrics import accuracy_score\n",
        "knn_classifier = KNeighborsClassifier()\n",
        "knn_classifier.fit(X_train_scaled, y_train)\n",
        "y_pred = knn_classifier.predict(X_test_scaled)"
      ],
      "metadata": {
        "id": "_Hio6OTNVsdE"
      },
      "execution_count": 28,
      "outputs": []
    },
    {
      "cell_type": "code",
      "source": [
        "from sklearn import metrics\n",
        "y_pred = knn_classifier.predict(X_test_scaled)\n",
        "print(\"accuracy of K-Nearst Neighbour :\",metrics.accuracy_score(y_test, y_pred))\n",
        "y_pred"
      ],
      "metadata": {
        "colab": {
          "base_uri": "https://localhost:8080/"
        },
        "id": "ue_OODYRV1nH",
        "outputId": "f135f6a1-87ab-4289-cebd-4cb550502fbd"
      },
      "execution_count": 29,
      "outputs": [
        {
          "output_type": "stream",
          "name": "stdout",
          "text": [
            "accuracy of K-Nearst Neighbour : 0.7662\n"
          ]
        },
        {
          "output_type": "execute_result",
          "data": {
            "text/plain": [
              "array([0, 0, 0, ..., 0, 0, 1])"
            ]
          },
          "metadata": {},
          "execution_count": 29
        }
      ]
    },
    {
      "cell_type": "code",
      "source": [
        "# Confusion Matrix\n",
        "conf_matrix = confusion_matrix(y_test, y_pred)\n",
        "plt.figure(figsize=(8, 6))\n",
        "sns.heatmap(conf_matrix, annot=True, fmt='d', cmap='Blues',\n",
        "            xticklabels=['Rejected', 'Approved'], yticklabels=['Rejected', 'Approved'])\n",
        "plt.xlabel('Predicted')\n",
        "plt.ylabel('Actual')\n",
        "plt.title('Confusion Matrix')\n",
        "plt.show()\n"
      ],
      "metadata": {
        "id": "SSWX5v7PdxKG",
        "colab": {
          "base_uri": "https://localhost:8080/",
          "height": 564
        },
        "outputId": "5029845f-610c-4196-ff9e-040ff8516dd0"
      },
      "execution_count": 30,
      "outputs": [
        {
          "output_type": "display_data",
          "data": {
            "text/plain": [
              "<Figure size 800x600 with 2 Axes>"
            ],
            "image/png": "[encoded data removed]"
          },
          "metadata": {}
        }
      ]
    },
    {
      "cell_type": "markdown",
      "source": [
        "## Feature Importance\n",
        "\n"
      ],
      "metadata": {
        "id": "hMOm3VXTanyg"
      }
    },
    {
      "cell_type": "code",
      "source": [
        "# Feature Importance\n",
        "feature_importances = model.feature_importances_\n",
        "features_names = X.columns\n",
        "sorted_idx = feature_importances.argsort()[::-1]\n",
        "\n",
        "plt.figure(figsize=(10, 6))\n",
        "plt.barh(features_names[sorted_idx], feature_importances[sorted_idx])\n",
        "plt.xlabel('Feature Importance')\n",
        "plt.title('Feature Importance')\n",
        "plt.show()"
      ],
      "metadata": {
        "id": "2hnjUGB3Yjks",
        "colab": {
          "base_uri": "https://localhost:8080/",
          "height": 557
        },
        "outputId": "f1d9a447-c698-4e25-d491-e3350d980dfb"
      },
      "execution_count": 31,
      "outputs": [
        {
          "output_type": "display_data",
          "data": {
            "text/plain": [
              "<Figure size 1000x600 with 1 Axes>"
            ],
            "image/png": "[encoded data removed]"
          },
          "metadata": {}
        }
      ]
    },
    {
      "cell_type": "code",
      "source": [
        "#probaplity for each class\n",
        "\n",
        "rf_probs = model.predict_proba(X_test_scaled)\n",
        "rf_predict = model.predict(X_test_scaled)\n",
        "rf_probs\n",
        "print( rf_probs[0:10] )\n",
        "print(rf_predict)"
      ],
      "metadata": {
        "colab": {
          "base_uri": "https://localhost:8080/"
        },
        "id": "udVIp0ISRaBg",
        "outputId": "84dff447-dde8-42da-e5d2-6b19fd523c7b"
      },
      "execution_count": 32,
      "outputs": [
        {
          "output_type": "stream",
          "name": "stdout",
          "text": [
            "[[0.73 0.27]\n",
            " [0.96 0.04]\n",
            " [0.73 0.27]\n",
            " [0.07 0.93]\n",
            " [0.99 0.01]\n",
            " [0.05 0.95]\n",
            " [0.82 0.18]\n",
            " [0.57 0.43]\n",
            " [0.97 0.03]\n",
            " [0.12 0.88]]\n",
            "[0 0 0 ... 0 0 1]\n"
          ]
        }
      ]
    },
    {
      "cell_type": "markdown",
      "source": [
        "# To Download The Trained Model"
      ],
      "metadata": {
        "id": "u6-xDbux1XX1"
      }
    },
    {
      "cell_type": "markdown",
      "source": [],
      "metadata": {
        "id": "Ik986psSPykP"
      }
    },
    {
      "cell_type": "code",
      "source": [
        "import joblib\n",
        "\n",
        "\n",
        "\n",
        "# Save the model\n",
        "joblib.dump(model, 'model3.pkl')\n",
        "from google.colab import files\n",
        "\n",
        "# Download the model file\n",
        "files.download('model3.pkl')\n",
        "\n"
      ],
      "metadata": {
        "id": "htvBCsfnQ5S8",
        "colab": {
          "base_uri": "https://localhost:8080/",
          "height": 17
        },
        "outputId": "2c5320ed-fe8f-416d-8430-ff3a518605d4"
      },
      "execution_count": 33,
      "outputs": [
        {
          "output_type": "display_data",
          "data": {
            "text/plain": [
              "<IPython.core.display.Javascript object>"
            ],
            "application/javascript": [
              "\n",
              "    async function download(id, filename, size) {\n",
              "      if (!google.colab.kernel.accessAllowed) {\n",
              "        return;\n",
              "      }\n",
              "      const div = document.createElement('div');\n",
              "      const label = document.createElement('label');\n",
              "      label.textContent = `Downloading \"${filename}\": `;\n",
              "      div.appendChild(label);\n",
              "      const progress = document.createElement('progress');\n",
              "      progress.max = size;\n",
              "      div.appendChild(progress);\n",
              "      document.body.appendChild(div);\n",
              "\n",
              "      const buffers = [];\n",
              "      let downloaded = 0;\n",
              "\n",
              "      const channel = await google.colab.kernel.comms.open(id);\n",
              "      // Send a message to notify the kernel that we're ready.\n",
              "      channel.send({})\n",
              "\n",
              "      for await (const message of channel.messages) {\n",
              "        // Send a message to notify the kernel that we're ready.\n",
              "        channel.send({})\n",
              "        if (message.buffers) {\n",
              "          for (const buffer of message.buffers) {\n",
              "            buffers.push(buffer);\n",
              "            downloaded += buffer.byteLength;\n",
              "            progress.value = downloaded;\n",
              "          }\n",
              "        }\n",
              "      }\n",
              "      const blob = new Blob(buffers, {type: 'application/binary'});\n",
              "      const a = document.createElement('a');\n",
              "      a.href = window.URL.createObjectURL(blob);\n",
              "      a.download = filename;\n",
              "      div.appendChild(a);\n",
              "      a.click();\n",
              "      div.remove();\n",
              "    }\n",
              "  "
            ]
          },
          "metadata": {}
        },
        {
          "output_type": "display_data",
          "data": {
            "text/plain": [
              "<IPython.core.display.Javascript object>"
            ],
            "application/javascript": [
              "download(\"download_ddac8185-b6dc-4dca-8169-304787e06b8f\", \"model3.pkl\", 30199977)"
            ]
          },
          "metadata": {}
        }
      ]
    },
    {
      "cell_type": "code",
      "source": [],
      "metadata": {
        "id": "BM5qx6jWgtk0"
      },
      "execution_count": null,
      "outputs": []
    }
  ]
}